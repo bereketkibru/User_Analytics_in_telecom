{
 "cells": [
  {
   "cell_type": "markdown",
   "id": "ed3f08cb",
   "metadata": {},
   "source": [
    "# Task 4 - Satisfaction Analysis"
   ]
  },
  {
   "cell_type": "code",
   "execution_count": 1,
   "id": "f2d3bbe1",
   "metadata": {},
   "outputs": [],
   "source": [
    "# Import Libraries\n",
    "import sys\n",
    "import os\n",
    "sys.path.append(os.path.abspath(os.path.join('..')))\n",
    "import pandas as pd\n",
    "import seaborn as sns\n",
    "import matplotlib.pyplot as plt\n",
    "import numpy as np \n",
    "from pandas.api.types import is_string_dtype, is_numeric_dtype"
   ]
  },
  {
   "cell_type": "code",
   "execution_count": 2,
   "id": "9d554043",
   "metadata": {},
   "outputs": [],
   "source": [
    "%matplotlib inline\n",
    "#display-related options\n",
    "pd.set_option('display.max_columns', None)\n",
    "pd.set_option(\"display.precision\", 3)\n",
    "pd.set_option(\"display.expand_frame_repr\", False)"
   ]
  },
  {
   "cell_type": "code",
   "execution_count": 3,
   "id": "a432db2e",
   "metadata": {},
   "outputs": [],
   "source": [
    "engagment_path = \"../data/score/engagement.csv\"\n",
    "experience_path = \"../data/score/experience.csv\""
   ]
  },
  {
   "cell_type": "code",
   "execution_count": 4,
   "id": "71e6fc0d",
   "metadata": {},
   "outputs": [],
   "source": [
    "def read_CSV_data(csv_path):\n",
    "    try:    \n",
    "        df = pd.read_csv(csv_path)\n",
    "        print(\"file read as csv\")\n",
    "        return df\n",
    "    except FileNotFoundError:\n",
    "        print(\"file not found\")"
   ]
  },
  {
   "cell_type": "code",
   "execution_count": 5,
   "id": "be5185b8",
   "metadata": {},
   "outputs": [
    {
     "name": "stdout",
     "output_type": "stream",
     "text": [
      "file read as csv\n",
      "file read as csv\n"
     ]
    }
   ],
   "source": [
    "user_engagement=read_CSV_data(engagment_path)\n",
    "user_experience=read_CSV_data(experience_path)"
   ]
  },
  {
   "cell_type": "code",
   "execution_count": 8,
   "id": "5a691972",
   "metadata": {},
   "outputs": [
    {
     "data": {
      "text/html": [
       "<div>\n",
       "<style scoped>\n",
       "    .dataframe tbody tr th:only-of-type {\n",
       "        vertical-align: middle;\n",
       "    }\n",
       "\n",
       "    .dataframe tbody tr th {\n",
       "        vertical-align: top;\n",
       "    }\n",
       "\n",
       "    .dataframe thead th {\n",
       "        text-align: right;\n",
       "    }\n",
       "</style>\n",
       "<table border=\"1\" class=\"dataframe\">\n",
       "  <thead>\n",
       "    <tr style=\"text-align: right;\">\n",
       "      <th></th>\n",
       "      <th>MSISDN/Number</th>\n",
       "      <th>engagement_score</th>\n",
       "      <th>Experiance_score</th>\n",
       "      <th>satisfaction_score</th>\n",
       "    </tr>\n",
       "  </thead>\n",
       "  <tbody>\n",
       "    <tr>\n",
       "      <th>0</th>\n",
       "      <td>3.360e+10</td>\n",
       "      <td>1.256e+08</td>\n",
       "      <td>1.055e+08</td>\n",
       "      <td>1.156e+08</td>\n",
       "    </tr>\n",
       "    <tr>\n",
       "      <th>1</th>\n",
       "      <td>3.360e+10</td>\n",
       "      <td>5.962e+08</td>\n",
       "      <td>1.055e+08</td>\n",
       "      <td>3.509e+08</td>\n",
       "    </tr>\n",
       "    <tr>\n",
       "      <th>2</th>\n",
       "      <td>3.360e+10</td>\n",
       "      <td>1.571e+08</td>\n",
       "      <td>1.055e+08</td>\n",
       "      <td>1.313e+08</td>\n",
       "    </tr>\n",
       "    <tr>\n",
       "      <th>3</th>\n",
       "      <td>3.360e+10</td>\n",
       "      <td>3.308e+08</td>\n",
       "      <td>1.055e+08</td>\n",
       "      <td>2.182e+08</td>\n",
       "    </tr>\n",
       "    <tr>\n",
       "      <th>4</th>\n",
       "      <td>3.360e+10</td>\n",
       "      <td>7.043e+08</td>\n",
       "      <td>1.075e+08</td>\n",
       "      <td>4.059e+08</td>\n",
       "    </tr>\n",
       "  </tbody>\n",
       "</table>\n",
       "</div>"
      ],
      "text/plain": [
       "   MSISDN/Number  engagement_score  Experiance_score  satisfaction_score\n",
       "0      3.360e+10         1.256e+08         1.055e+08           1.156e+08\n",
       "1      3.360e+10         5.962e+08         1.055e+08           3.509e+08\n",
       "2      3.360e+10         1.571e+08         1.055e+08           1.313e+08\n",
       "3      3.360e+10         3.308e+08         1.055e+08           2.182e+08\n",
       "4      3.360e+10         7.043e+08         1.075e+08           4.059e+08"
      ]
     },
     "execution_count": 8,
     "metadata": {},
     "output_type": "execute_result"
    }
   ],
   "source": [
    "satisfaction_metrics = pd.merge(user_engagement, user_experience, on=\"MSISDN/Number\")\n",
    "satisfaction_metrics['satisfaction_score'] = (satisfaction_metrics['engagement_score'] +\n",
    "                                              satisfaction_metrics['Experiance_score']) / 2\n",
    "\n",
    "score_df = satisfaction_metrics[['MSISDN/Number', 'engagement_score',\n",
    "                                              'Experiance_score', 'satisfaction_score']]\n"
   ]
  },
  {
   "cell_type": "code",
   "execution_count": 10,
   "id": "faa7a93e",
   "metadata": {},
   "outputs": [
    {
     "data": {
      "text/html": [
       "<div>\n",
       "<style scoped>\n",
       "    .dataframe tbody tr th:only-of-type {\n",
       "        vertical-align: middle;\n",
       "    }\n",
       "\n",
       "    .dataframe tbody tr th {\n",
       "        vertical-align: top;\n",
       "    }\n",
       "\n",
       "    .dataframe thead th {\n",
       "        text-align: right;\n",
       "    }\n",
       "</style>\n",
       "<table border=\"1\" class=\"dataframe\">\n",
       "  <thead>\n",
       "    <tr style=\"text-align: right;\">\n",
       "      <th></th>\n",
       "      <th>MSISDN/Number</th>\n",
       "      <th>engagement_score</th>\n",
       "      <th>Experiance_score</th>\n",
       "      <th>satisfaction_score</th>\n",
       "    </tr>\n",
       "  </thead>\n",
       "  <tbody>\n",
       "    <tr>\n",
       "      <th>106855</th>\n",
       "      <td>8.824e+14</td>\n",
       "      <td>6.139e+08</td>\n",
       "      <td>8.824e+14</td>\n",
       "      <td>4.412e+14</td>\n",
       "    </tr>\n",
       "    <tr>\n",
       "      <th>106854</th>\n",
       "      <td>3.370e+14</td>\n",
       "      <td>1.568e+08</td>\n",
       "      <td>3.370e+14</td>\n",
       "      <td>1.685e+14</td>\n",
       "    </tr>\n",
       "    <tr>\n",
       "      <th>106853</th>\n",
       "      <td>3.197e+12</td>\n",
       "      <td>5.210e+08</td>\n",
       "      <td>3.163e+12</td>\n",
       "      <td>1.582e+12</td>\n",
       "    </tr>\n",
       "    <tr>\n",
       "      <th>13526</th>\n",
       "      <td>3.363e+10</td>\n",
       "      <td>8.599e+08</td>\n",
       "      <td>1.016e+09</td>\n",
       "      <td>9.380e+08</td>\n",
       "    </tr>\n",
       "    <tr>\n",
       "      <th>6437</th>\n",
       "      <td>3.361e+10</td>\n",
       "      <td>8.599e+08</td>\n",
       "      <td>9.563e+08</td>\n",
       "      <td>9.081e+08</td>\n",
       "    </tr>\n",
       "    <tr>\n",
       "      <th>13180</th>\n",
       "      <td>3.363e+10</td>\n",
       "      <td>8.599e+08</td>\n",
       "      <td>9.553e+08</td>\n",
       "      <td>9.076e+08</td>\n",
       "    </tr>\n",
       "    <tr>\n",
       "      <th>37052</th>\n",
       "      <td>3.366e+10</td>\n",
       "      <td>8.599e+08</td>\n",
       "      <td>8.922e+08</td>\n",
       "      <td>8.761e+08</td>\n",
       "    </tr>\n",
       "    <tr>\n",
       "      <th>92923</th>\n",
       "      <td>3.376e+10</td>\n",
       "      <td>8.599e+08</td>\n",
       "      <td>8.211e+08</td>\n",
       "      <td>8.405e+08</td>\n",
       "    </tr>\n",
       "    <tr>\n",
       "      <th>76363</th>\n",
       "      <td>3.368e+10</td>\n",
       "      <td>8.599e+08</td>\n",
       "      <td>7.919e+08</td>\n",
       "      <td>8.259e+08</td>\n",
       "    </tr>\n",
       "    <tr>\n",
       "      <th>65118</th>\n",
       "      <td>3.367e+10</td>\n",
       "      <td>8.599e+08</td>\n",
       "      <td>7.036e+08</td>\n",
       "      <td>7.818e+08</td>\n",
       "    </tr>\n",
       "  </tbody>\n",
       "</table>\n",
       "</div>"
      ],
      "text/plain": [
       "        MSISDN/Number  engagement_score  Experiance_score  satisfaction_score\n",
       "106855      8.824e+14         6.139e+08         8.824e+14           4.412e+14\n",
       "106854      3.370e+14         1.568e+08         3.370e+14           1.685e+14\n",
       "106853      3.197e+12         5.210e+08         3.163e+12           1.582e+12\n",
       "13526       3.363e+10         8.599e+08         1.016e+09           9.380e+08\n",
       "6437        3.361e+10         8.599e+08         9.563e+08           9.081e+08\n",
       "13180       3.363e+10         8.599e+08         9.553e+08           9.076e+08\n",
       "37052       3.366e+10         8.599e+08         8.922e+08           8.761e+08\n",
       "92923       3.376e+10         8.599e+08         8.211e+08           8.405e+08\n",
       "76363       3.368e+10         8.599e+08         7.919e+08           8.259e+08\n",
       "65118       3.367e+10         8.599e+08         7.036e+08           7.818e+08"
      ]
     },
     "execution_count": 10,
     "metadata": {},
     "output_type": "execute_result"
    }
   ],
   "source": [
    "score_df=score_df.sort_values(['satisfaction_score'],ascending=False)\n",
    "score_df.head(10)"
   ]
  },
  {
   "cell_type": "markdown",
   "id": "786756ae",
   "metadata": {},
   "source": [
    "### Task 4.3 - Build a regression model of your choice to predict the satisfaction score of a customer. "
   ]
  },
  {
   "cell_type": "code",
   "execution_count": 12,
   "id": "445eef50",
   "metadata": {},
   "outputs": [],
   "source": [
    "from sklearn.linear_model import LinearRegression\n",
    "X = score_df[['engagement_score', 'Experiance_score']]\n",
    "y = score_df[['satisfaction_score']]\n",
    "\n",
    "linear_reg = LinearRegression()\n",
    "\n",
    "x = linear_reg.fit(X, y)\n",
    "pred = linear_reg.predict(X)"
   ]
  },
  {
   "cell_type": "code",
   "execution_count": null,
   "id": "1c65457c",
   "metadata": {},
   "outputs": [],
   "source": []
  }
 ],
 "metadata": {
  "kernelspec": {
   "display_name": "Python 3",
   "language": "python",
   "name": "python3"
  },
  "language_info": {
   "codemirror_mode": {
    "name": "ipython",
    "version": 3
   },
   "file_extension": ".py",
   "mimetype": "text/x-python",
   "name": "python",
   "nbconvert_exporter": "python",
   "pygments_lexer": "ipython3",
   "version": "3.8.3"
  }
 },
 "nbformat": 4,
 "nbformat_minor": 5
}
