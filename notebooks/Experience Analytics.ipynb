{
 "cells": [
  {
   "cell_type": "markdown",
   "id": "432039fe",
   "metadata": {},
   "source": [
    "# Task 3 - Experience Analytics"
   ]
  },
  {
   "cell_type": "code",
   "execution_count": 1,
   "id": "d2e3d0d8",
   "metadata": {},
   "outputs": [],
   "source": [
    "# Import Libraries\n",
    "import sys\n",
    "import os\n",
    "sys.path.append(os.path.abspath(os.path.join('..')))\n",
    "import pandas as pd\n",
    "import seaborn as sns\n",
    "import matplotlib.pyplot as plt\n",
    "import numpy as np \n",
    "from pandas.api.types import is_string_dtype, is_numeric_dtype"
   ]
  },
  {
   "cell_type": "code",
   "execution_count": 2,
   "id": "bf3611bf",
   "metadata": {},
   "outputs": [],
   "source": [
    "%matplotlib inline\n",
    "#display-related options\n",
    "pd.set_option('display.max_columns', None)\n",
    "pd.set_option(\"display.precision\", 3)\n",
    "pd.set_option(\"display.expand_frame_repr\", False)"
   ]
  },
  {
   "cell_type": "markdown",
   "id": "6ad2533d",
   "metadata": {},
   "source": [
    "## Import Data"
   ]
  },
  {
   "cell_type": "code",
   "execution_count": 3,
   "id": "54012553",
   "metadata": {},
   "outputs": [],
   "source": [
    "CSV_PATH = \"../data/raw/rawData.csv\""
   ]
  },
  {
   "cell_type": "code",
   "execution_count": 4,
   "id": "b101373f",
   "metadata": {},
   "outputs": [],
   "source": [
    "# taking a csv file path and reading a dataframe\n",
    "\n",
    "def read_raw_data(csv_path):\n",
    "    try:    \n",
    "        df = pd.read_csv(csv_path)\n",
    "        print(\"file read as csv\")\n",
    "        return df\n",
    "    except FileNotFoundError:\n",
    "        print(\"file not found\")"
   ]
  },
  {
   "cell_type": "code",
   "execution_count": 5,
   "id": "456440e1",
   "metadata": {},
   "outputs": [
    {
     "name": "stdout",
     "output_type": "stream",
     "text": [
      "file read as csv\n"
     ]
    }
   ],
   "source": [
    "xDR_df = read_raw_data(CSV_PATH)"
   ]
  },
  {
   "cell_type": "code",
   "execution_count": 6,
   "id": "77b25dc0",
   "metadata": {},
   "outputs": [
    {
     "data": {
      "text/html": [
       "<div>\n",
       "<style scoped>\n",
       "    .dataframe tbody tr th:only-of-type {\n",
       "        vertical-align: middle;\n",
       "    }\n",
       "\n",
       "    .dataframe tbody tr th {\n",
       "        vertical-align: top;\n",
       "    }\n",
       "\n",
       "    .dataframe thead th {\n",
       "        text-align: right;\n",
       "    }\n",
       "</style>\n",
       "<table border=\"1\" class=\"dataframe\">\n",
       "  <thead>\n",
       "    <tr style=\"text-align: right;\">\n",
       "      <th></th>\n",
       "      <th>Bearer Id</th>\n",
       "      <th>Start</th>\n",
       "      <th>Start ms</th>\n",
       "      <th>End</th>\n",
       "      <th>End ms</th>\n",
       "      <th>Dur. (ms)</th>\n",
       "      <th>IMSI</th>\n",
       "      <th>MSISDN/Number</th>\n",
       "      <th>IMEI</th>\n",
       "      <th>Last Location Name</th>\n",
       "      <th>Avg RTT DL (ms)</th>\n",
       "      <th>Avg RTT UL (ms)</th>\n",
       "      <th>Avg Bearer TP DL (kbps)</th>\n",
       "      <th>Avg Bearer TP UL (kbps)</th>\n",
       "      <th>TCP DL Retrans. Vol (Bytes)</th>\n",
       "      <th>TCP UL Retrans. Vol (Bytes)</th>\n",
       "      <th>DL TP &lt; 50 Kbps (%)</th>\n",
       "      <th>50 Kbps &lt; DL TP &lt; 250 Kbps (%)</th>\n",
       "      <th>250 Kbps &lt; DL TP &lt; 1 Mbps (%)</th>\n",
       "      <th>DL TP &gt; 1 Mbps (%)</th>\n",
       "      <th>UL TP &lt; 10 Kbps (%)</th>\n",
       "      <th>10 Kbps &lt; UL TP &lt; 50 Kbps (%)</th>\n",
       "      <th>50 Kbps &lt; UL TP &lt; 300 Kbps (%)</th>\n",
       "      <th>UL TP &gt; 300 Kbps (%)</th>\n",
       "      <th>HTTP DL (Bytes)</th>\n",
       "      <th>HTTP UL (Bytes)</th>\n",
       "      <th>Activity Duration DL (ms)</th>\n",
       "      <th>Activity Duration UL (ms)</th>\n",
       "      <th>Dur. (ms).1</th>\n",
       "      <th>Handset Manufacturer</th>\n",
       "      <th>Handset Type</th>\n",
       "      <th>Nb of sec with 125000B &lt; Vol DL</th>\n",
       "      <th>Nb of sec with 1250B &lt; Vol UL &lt; 6250B</th>\n",
       "      <th>Nb of sec with 31250B &lt; Vol DL &lt; 125000B</th>\n",
       "      <th>Nb of sec with 37500B &lt; Vol UL</th>\n",
       "      <th>Nb of sec with 6250B &lt; Vol DL &lt; 31250B</th>\n",
       "      <th>Nb of sec with 6250B &lt; Vol UL &lt; 37500B</th>\n",
       "      <th>Nb of sec with Vol DL &lt; 6250B</th>\n",
       "      <th>Nb of sec with Vol UL &lt; 1250B</th>\n",
       "      <th>Social Media DL (Bytes)</th>\n",
       "      <th>Social Media UL (Bytes)</th>\n",
       "      <th>Google DL (Bytes)</th>\n",
       "      <th>Google UL (Bytes)</th>\n",
       "      <th>Email DL (Bytes)</th>\n",
       "      <th>Email UL (Bytes)</th>\n",
       "      <th>Youtube DL (Bytes)</th>\n",
       "      <th>Youtube UL (Bytes)</th>\n",
       "      <th>Netflix DL (Bytes)</th>\n",
       "      <th>Netflix UL (Bytes)</th>\n",
       "      <th>Gaming DL (Bytes)</th>\n",
       "      <th>Gaming UL (Bytes)</th>\n",
       "      <th>Other DL (Bytes)</th>\n",
       "      <th>Other UL (Bytes)</th>\n",
       "      <th>Total UL (Bytes)</th>\n",
       "      <th>Total DL (Bytes)</th>\n",
       "    </tr>\n",
       "  </thead>\n",
       "  <tbody>\n",
       "    <tr>\n",
       "      <th>0</th>\n",
       "      <td>1.311e+19</td>\n",
       "      <td>4/4/2019 12:01</td>\n",
       "      <td>770.0</td>\n",
       "      <td>4/25/2019 14:35</td>\n",
       "      <td>662.0</td>\n",
       "      <td>1.824e+06</td>\n",
       "      <td>2.082e+14</td>\n",
       "      <td>3.366e+10</td>\n",
       "      <td>3.552e+13</td>\n",
       "      <td>9.16456699548519E+015</td>\n",
       "      <td>42.0</td>\n",
       "      <td>5.0</td>\n",
       "      <td>23.0</td>\n",
       "      <td>44.0</td>\n",
       "      <td>NaN</td>\n",
       "      <td>NaN</td>\n",
       "      <td>100.0</td>\n",
       "      <td>0.0</td>\n",
       "      <td>0.0</td>\n",
       "      <td>0.0</td>\n",
       "      <td>100.0</td>\n",
       "      <td>0.0</td>\n",
       "      <td>0.0</td>\n",
       "      <td>0.0</td>\n",
       "      <td>NaN</td>\n",
       "      <td>NaN</td>\n",
       "      <td>37624.0</td>\n",
       "      <td>38787.0</td>\n",
       "      <td>1.824e+09</td>\n",
       "      <td>Samsung</td>\n",
       "      <td>Samsung Galaxy A5 Sm-A520F</td>\n",
       "      <td>NaN</td>\n",
       "      <td>NaN</td>\n",
       "      <td>NaN</td>\n",
       "      <td>NaN</td>\n",
       "      <td>NaN</td>\n",
       "      <td>NaN</td>\n",
       "      <td>213.0</td>\n",
       "      <td>214.0</td>\n",
       "      <td>1.546e+06</td>\n",
       "      <td>24420.0</td>\n",
       "      <td>1.634e+06</td>\n",
       "      <td>1.271e+06</td>\n",
       "      <td>3.564e+06</td>\n",
       "      <td>137762.0</td>\n",
       "      <td>1.585e+07</td>\n",
       "      <td>2.501e+06</td>\n",
       "      <td>8.199e+06</td>\n",
       "      <td>9.656e+06</td>\n",
       "      <td>2.781e+08</td>\n",
       "      <td>1.434e+07</td>\n",
       "      <td>1.717e+08</td>\n",
       "      <td>8.814e+06</td>\n",
       "      <td>3.675e+07</td>\n",
       "      <td>3.089e+08</td>\n",
       "    </tr>\n",
       "    <tr>\n",
       "      <th>1</th>\n",
       "      <td>1.311e+19</td>\n",
       "      <td>4/9/2019 13:04</td>\n",
       "      <td>235.0</td>\n",
       "      <td>4/25/2019 8:15</td>\n",
       "      <td>606.0</td>\n",
       "      <td>1.365e+06</td>\n",
       "      <td>2.082e+14</td>\n",
       "      <td>3.368e+10</td>\n",
       "      <td>3.579e+13</td>\n",
       "      <td>L77566A</td>\n",
       "      <td>65.0</td>\n",
       "      <td>5.0</td>\n",
       "      <td>16.0</td>\n",
       "      <td>26.0</td>\n",
       "      <td>NaN</td>\n",
       "      <td>NaN</td>\n",
       "      <td>100.0</td>\n",
       "      <td>0.0</td>\n",
       "      <td>0.0</td>\n",
       "      <td>0.0</td>\n",
       "      <td>100.0</td>\n",
       "      <td>0.0</td>\n",
       "      <td>0.0</td>\n",
       "      <td>0.0</td>\n",
       "      <td>NaN</td>\n",
       "      <td>NaN</td>\n",
       "      <td>168.0</td>\n",
       "      <td>3560.0</td>\n",
       "      <td>1.365e+09</td>\n",
       "      <td>Samsung</td>\n",
       "      <td>Samsung Galaxy J5 (Sm-J530)</td>\n",
       "      <td>NaN</td>\n",
       "      <td>NaN</td>\n",
       "      <td>NaN</td>\n",
       "      <td>NaN</td>\n",
       "      <td>NaN</td>\n",
       "      <td>NaN</td>\n",
       "      <td>971.0</td>\n",
       "      <td>1022.0</td>\n",
       "      <td>1.926e+06</td>\n",
       "      <td>7165.0</td>\n",
       "      <td>3.494e+06</td>\n",
       "      <td>9.202e+05</td>\n",
       "      <td>6.290e+05</td>\n",
       "      <td>308339.0</td>\n",
       "      <td>2.025e+07</td>\n",
       "      <td>1.911e+07</td>\n",
       "      <td>1.834e+07</td>\n",
       "      <td>1.723e+07</td>\n",
       "      <td>6.088e+08</td>\n",
       "      <td>1.171e+06</td>\n",
       "      <td>5.269e+08</td>\n",
       "      <td>1.506e+07</td>\n",
       "      <td>5.380e+07</td>\n",
       "      <td>6.534e+08</td>\n",
       "    </tr>\n",
       "    <tr>\n",
       "      <th>2</th>\n",
       "      <td>1.311e+19</td>\n",
       "      <td>4/9/2019 17:42</td>\n",
       "      <td>1.0</td>\n",
       "      <td>4/25/2019 11:58</td>\n",
       "      <td>652.0</td>\n",
       "      <td>1.362e+06</td>\n",
       "      <td>2.082e+14</td>\n",
       "      <td>3.376e+10</td>\n",
       "      <td>3.528e+13</td>\n",
       "      <td>D42335A</td>\n",
       "      <td>NaN</td>\n",
       "      <td>NaN</td>\n",
       "      <td>6.0</td>\n",
       "      <td>9.0</td>\n",
       "      <td>NaN</td>\n",
       "      <td>NaN</td>\n",
       "      <td>100.0</td>\n",
       "      <td>0.0</td>\n",
       "      <td>0.0</td>\n",
       "      <td>0.0</td>\n",
       "      <td>100.0</td>\n",
       "      <td>0.0</td>\n",
       "      <td>0.0</td>\n",
       "      <td>0.0</td>\n",
       "      <td>NaN</td>\n",
       "      <td>NaN</td>\n",
       "      <td>0.0</td>\n",
       "      <td>0.0</td>\n",
       "      <td>1.362e+09</td>\n",
       "      <td>Samsung</td>\n",
       "      <td>Samsung Galaxy A8 (2018)</td>\n",
       "      <td>NaN</td>\n",
       "      <td>NaN</td>\n",
       "      <td>NaN</td>\n",
       "      <td>NaN</td>\n",
       "      <td>NaN</td>\n",
       "      <td>NaN</td>\n",
       "      <td>751.0</td>\n",
       "      <td>695.0</td>\n",
       "      <td>1.684e+06</td>\n",
       "      <td>42224.0</td>\n",
       "      <td>8.535e+06</td>\n",
       "      <td>1.694e+06</td>\n",
       "      <td>2.690e+06</td>\n",
       "      <td>672973.0</td>\n",
       "      <td>1.973e+07</td>\n",
       "      <td>1.470e+07</td>\n",
       "      <td>1.759e+07</td>\n",
       "      <td>6.163e+06</td>\n",
       "      <td>2.296e+08</td>\n",
       "      <td>3.956e+05</td>\n",
       "      <td>4.107e+08</td>\n",
       "      <td>4.216e+06</td>\n",
       "      <td>2.788e+07</td>\n",
       "      <td>2.798e+08</td>\n",
       "    </tr>\n",
       "    <tr>\n",
       "      <th>3</th>\n",
       "      <td>1.311e+19</td>\n",
       "      <td>4/10/2019 0:31</td>\n",
       "      <td>486.0</td>\n",
       "      <td>4/25/2019 7:36</td>\n",
       "      <td>171.0</td>\n",
       "      <td>1.322e+06</td>\n",
       "      <td>2.082e+14</td>\n",
       "      <td>3.375e+10</td>\n",
       "      <td>3.536e+13</td>\n",
       "      <td>T21824A</td>\n",
       "      <td>NaN</td>\n",
       "      <td>NaN</td>\n",
       "      <td>44.0</td>\n",
       "      <td>44.0</td>\n",
       "      <td>NaN</td>\n",
       "      <td>NaN</td>\n",
       "      <td>100.0</td>\n",
       "      <td>0.0</td>\n",
       "      <td>0.0</td>\n",
       "      <td>0.0</td>\n",
       "      <td>100.0</td>\n",
       "      <td>0.0</td>\n",
       "      <td>0.0</td>\n",
       "      <td>0.0</td>\n",
       "      <td>NaN</td>\n",
       "      <td>NaN</td>\n",
       "      <td>3330.0</td>\n",
       "      <td>37882.0</td>\n",
       "      <td>1.322e+09</td>\n",
       "      <td>undefined</td>\n",
       "      <td>undefined</td>\n",
       "      <td>NaN</td>\n",
       "      <td>NaN</td>\n",
       "      <td>NaN</td>\n",
       "      <td>NaN</td>\n",
       "      <td>NaN</td>\n",
       "      <td>NaN</td>\n",
       "      <td>17.0</td>\n",
       "      <td>207.0</td>\n",
       "      <td>6.441e+05</td>\n",
       "      <td>13372.0</td>\n",
       "      <td>9.024e+06</td>\n",
       "      <td>2.788e+06</td>\n",
       "      <td>1.440e+06</td>\n",
       "      <td>631229.0</td>\n",
       "      <td>2.139e+07</td>\n",
       "      <td>1.515e+07</td>\n",
       "      <td>1.399e+07</td>\n",
       "      <td>1.098e+06</td>\n",
       "      <td>7.995e+08</td>\n",
       "      <td>1.085e+07</td>\n",
       "      <td>7.490e+08</td>\n",
       "      <td>1.280e+07</td>\n",
       "      <td>4.332e+07</td>\n",
       "      <td>8.460e+08</td>\n",
       "    </tr>\n",
       "    <tr>\n",
       "      <th>4</th>\n",
       "      <td>1.311e+19</td>\n",
       "      <td>4/12/2019 20:10</td>\n",
       "      <td>565.0</td>\n",
       "      <td>4/25/2019 10:40</td>\n",
       "      <td>954.0</td>\n",
       "      <td>1.089e+06</td>\n",
       "      <td>2.082e+14</td>\n",
       "      <td>3.370e+10</td>\n",
       "      <td>3.541e+13</td>\n",
       "      <td>D88865A</td>\n",
       "      <td>NaN</td>\n",
       "      <td>NaN</td>\n",
       "      <td>6.0</td>\n",
       "      <td>9.0</td>\n",
       "      <td>NaN</td>\n",
       "      <td>NaN</td>\n",
       "      <td>100.0</td>\n",
       "      <td>0.0</td>\n",
       "      <td>0.0</td>\n",
       "      <td>0.0</td>\n",
       "      <td>100.0</td>\n",
       "      <td>0.0</td>\n",
       "      <td>0.0</td>\n",
       "      <td>0.0</td>\n",
       "      <td>NaN</td>\n",
       "      <td>NaN</td>\n",
       "      <td>0.0</td>\n",
       "      <td>0.0</td>\n",
       "      <td>1.089e+09</td>\n",
       "      <td>Samsung</td>\n",
       "      <td>Samsung Sm-G390F</td>\n",
       "      <td>NaN</td>\n",
       "      <td>NaN</td>\n",
       "      <td>NaN</td>\n",
       "      <td>NaN</td>\n",
       "      <td>NaN</td>\n",
       "      <td>NaN</td>\n",
       "      <td>607.0</td>\n",
       "      <td>604.0</td>\n",
       "      <td>8.626e+05</td>\n",
       "      <td>50188.0</td>\n",
       "      <td>6.248e+06</td>\n",
       "      <td>1.501e+06</td>\n",
       "      <td>1.936e+06</td>\n",
       "      <td>173853.0</td>\n",
       "      <td>1.526e+07</td>\n",
       "      <td>1.896e+07</td>\n",
       "      <td>1.712e+07</td>\n",
       "      <td>4.152e+05</td>\n",
       "      <td>5.277e+08</td>\n",
       "      <td>3.530e+06</td>\n",
       "      <td>5.507e+08</td>\n",
       "      <td>1.391e+07</td>\n",
       "      <td>3.854e+07</td>\n",
       "      <td>5.691e+08</td>\n",
       "    </tr>\n",
       "  </tbody>\n",
       "</table>\n",
       "</div>"
      ],
      "text/plain": [
       "   Bearer Id            Start  Start ms              End  End ms  Dur. (ms)       IMSI  MSISDN/Number       IMEI     Last Location Name  Avg RTT DL (ms)  Avg RTT UL (ms)  Avg Bearer TP DL (kbps)  Avg Bearer TP UL (kbps)  TCP DL Retrans. Vol (Bytes)  TCP UL Retrans. Vol (Bytes)  DL TP < 50 Kbps (%)  50 Kbps < DL TP < 250 Kbps (%)  250 Kbps < DL TP < 1 Mbps (%)  DL TP > 1 Mbps (%)  UL TP < 10 Kbps (%)  10 Kbps < UL TP < 50 Kbps (%)  50 Kbps < UL TP < 300 Kbps (%)  UL TP > 300 Kbps (%)  HTTP DL (Bytes)  HTTP UL (Bytes)  Activity Duration DL (ms)  Activity Duration UL (ms)  Dur. (ms).1 Handset Manufacturer                 Handset Type  Nb of sec with 125000B < Vol DL  Nb of sec with 1250B < Vol UL < 6250B  Nb of sec with 31250B < Vol DL < 125000B  Nb of sec with 37500B < Vol UL  Nb of sec with 6250B < Vol DL < 31250B  Nb of sec with 6250B < Vol UL < 37500B  Nb of sec with Vol DL < 6250B  Nb of sec with Vol UL < 1250B  Social Media DL (Bytes)  Social Media UL (Bytes)  Google DL (Bytes)  Google UL (Bytes)  Email DL (Bytes)  Email UL (Bytes)  Youtube DL (Bytes)  Youtube UL (Bytes)  Netflix DL (Bytes)  Netflix UL (Bytes)  Gaming DL (Bytes)  Gaming UL (Bytes)  Other DL (Bytes)  Other UL (Bytes)  Total UL (Bytes)  Total DL (Bytes)\n",
       "0  1.311e+19   4/4/2019 12:01     770.0  4/25/2019 14:35   662.0  1.824e+06  2.082e+14      3.366e+10  3.552e+13  9.16456699548519E+015             42.0              5.0                     23.0                     44.0                          NaN                          NaN                100.0                             0.0                            0.0                 0.0                100.0                            0.0                             0.0                   0.0              NaN              NaN                    37624.0                    38787.0    1.824e+09              Samsung   Samsung Galaxy A5 Sm-A520F                              NaN                                    NaN                                       NaN                             NaN                                     NaN                                     NaN                          213.0                          214.0                1.546e+06                  24420.0          1.634e+06          1.271e+06         3.564e+06          137762.0           1.585e+07           2.501e+06           8.199e+06           9.656e+06          2.781e+08          1.434e+07         1.717e+08         8.814e+06         3.675e+07         3.089e+08\n",
       "1  1.311e+19   4/9/2019 13:04     235.0   4/25/2019 8:15   606.0  1.365e+06  2.082e+14      3.368e+10  3.579e+13                L77566A             65.0              5.0                     16.0                     26.0                          NaN                          NaN                100.0                             0.0                            0.0                 0.0                100.0                            0.0                             0.0                   0.0              NaN              NaN                      168.0                     3560.0    1.365e+09              Samsung  Samsung Galaxy J5 (Sm-J530)                              NaN                                    NaN                                       NaN                             NaN                                     NaN                                     NaN                          971.0                         1022.0                1.926e+06                   7165.0          3.494e+06          9.202e+05         6.290e+05          308339.0           2.025e+07           1.911e+07           1.834e+07           1.723e+07          6.088e+08          1.171e+06         5.269e+08         1.506e+07         5.380e+07         6.534e+08\n",
       "2  1.311e+19   4/9/2019 17:42       1.0  4/25/2019 11:58   652.0  1.362e+06  2.082e+14      3.376e+10  3.528e+13                D42335A              NaN              NaN                      6.0                      9.0                          NaN                          NaN                100.0                             0.0                            0.0                 0.0                100.0                            0.0                             0.0                   0.0              NaN              NaN                        0.0                        0.0    1.362e+09              Samsung     Samsung Galaxy A8 (2018)                              NaN                                    NaN                                       NaN                             NaN                                     NaN                                     NaN                          751.0                          695.0                1.684e+06                  42224.0          8.535e+06          1.694e+06         2.690e+06          672973.0           1.973e+07           1.470e+07           1.759e+07           6.163e+06          2.296e+08          3.956e+05         4.107e+08         4.216e+06         2.788e+07         2.798e+08\n",
       "3  1.311e+19   4/10/2019 0:31     486.0   4/25/2019 7:36   171.0  1.322e+06  2.082e+14      3.375e+10  3.536e+13                T21824A              NaN              NaN                     44.0                     44.0                          NaN                          NaN                100.0                             0.0                            0.0                 0.0                100.0                            0.0                             0.0                   0.0              NaN              NaN                     3330.0                    37882.0    1.322e+09            undefined                    undefined                              NaN                                    NaN                                       NaN                             NaN                                     NaN                                     NaN                           17.0                          207.0                6.441e+05                  13372.0          9.024e+06          2.788e+06         1.440e+06          631229.0           2.139e+07           1.515e+07           1.399e+07           1.098e+06          7.995e+08          1.085e+07         7.490e+08         1.280e+07         4.332e+07         8.460e+08\n",
       "4  1.311e+19  4/12/2019 20:10     565.0  4/25/2019 10:40   954.0  1.089e+06  2.082e+14      3.370e+10  3.541e+13                D88865A              NaN              NaN                      6.0                      9.0                          NaN                          NaN                100.0                             0.0                            0.0                 0.0                100.0                            0.0                             0.0                   0.0              NaN              NaN                        0.0                        0.0    1.089e+09              Samsung             Samsung Sm-G390F                              NaN                                    NaN                                       NaN                             NaN                                     NaN                                     NaN                          607.0                          604.0                8.626e+05                  50188.0          6.248e+06          1.501e+06         1.936e+06          173853.0           1.526e+07           1.896e+07           1.712e+07           4.152e+05          5.277e+08          3.530e+06         5.507e+08         1.391e+07         3.854e+07         5.691e+08"
      ]
     },
     "execution_count": 6,
     "metadata": {},
     "output_type": "execute_result"
    }
   ],
   "source": [
    "xDR_df.head()"
   ]
  },
  {
   "cell_type": "code",
   "execution_count": 7,
   "id": "3703255c",
   "metadata": {},
   "outputs": [],
   "source": [
    "experience_df = xDR_df[['MSISDN/Number', 'Avg RTT DL (ms)', 'Avg RTT UL (ms)', \n",
    "           'Avg Bearer TP DL (kbps)', 'Avg Bearer TP UL (kbps)',\n",
    "           'TCP DL Retrans. Vol (Bytes)', 'TCP UL Retrans. Vol (Bytes)',\n",
    "            'DL TP < 50 Kbps (%)', '50 Kbps < DL TP < 250 Kbps (%)',\n",
    "                '250 Kbps < DL TP < 1 Mbps (%)', 'DL TP > 1 Mbps (%)',\n",
    "                'UL TP < 10 Kbps (%)', '10 Kbps < UL TP < 50 Kbps (%)',\n",
    "                '50 Kbps < UL TP < 300 Kbps (%)', 'UL TP > 300 Kbps (%)',            \n",
    "           'Handset Type']].copy()"
   ]
  },
  {
   "cell_type": "code",
   "execution_count": 8,
   "id": "989beef8",
   "metadata": {},
   "outputs": [
    {
     "data": {
      "text/html": [
       "<div>\n",
       "<style scoped>\n",
       "    .dataframe tbody tr th:only-of-type {\n",
       "        vertical-align: middle;\n",
       "    }\n",
       "\n",
       "    .dataframe tbody tr th {\n",
       "        vertical-align: top;\n",
       "    }\n",
       "\n",
       "    .dataframe thead th {\n",
       "        text-align: right;\n",
       "    }\n",
       "</style>\n",
       "<table border=\"1\" class=\"dataframe\">\n",
       "  <thead>\n",
       "    <tr style=\"text-align: right;\">\n",
       "      <th></th>\n",
       "      <th>MSISDN/Number</th>\n",
       "      <th>Avg RTT DL (ms)</th>\n",
       "      <th>Avg RTT UL (ms)</th>\n",
       "      <th>Avg Bearer TP DL (kbps)</th>\n",
       "      <th>Avg Bearer TP UL (kbps)</th>\n",
       "      <th>TCP DL Retrans. Vol (Bytes)</th>\n",
       "      <th>TCP UL Retrans. Vol (Bytes)</th>\n",
       "      <th>DL TP &lt; 50 Kbps (%)</th>\n",
       "      <th>50 Kbps &lt; DL TP &lt; 250 Kbps (%)</th>\n",
       "      <th>250 Kbps &lt; DL TP &lt; 1 Mbps (%)</th>\n",
       "      <th>DL TP &gt; 1 Mbps (%)</th>\n",
       "      <th>UL TP &lt; 10 Kbps (%)</th>\n",
       "      <th>10 Kbps &lt; UL TP &lt; 50 Kbps (%)</th>\n",
       "      <th>50 Kbps &lt; UL TP &lt; 300 Kbps (%)</th>\n",
       "      <th>UL TP &gt; 300 Kbps (%)</th>\n",
       "      <th>Handset Type</th>\n",
       "    </tr>\n",
       "  </thead>\n",
       "  <tbody>\n",
       "    <tr>\n",
       "      <th>0</th>\n",
       "      <td>3.366e+10</td>\n",
       "      <td>42.0</td>\n",
       "      <td>5.0</td>\n",
       "      <td>23.0</td>\n",
       "      <td>44.0</td>\n",
       "      <td>NaN</td>\n",
       "      <td>NaN</td>\n",
       "      <td>100.0</td>\n",
       "      <td>0.0</td>\n",
       "      <td>0.0</td>\n",
       "      <td>0.0</td>\n",
       "      <td>100.0</td>\n",
       "      <td>0.0</td>\n",
       "      <td>0.0</td>\n",
       "      <td>0.0</td>\n",
       "      <td>Samsung Galaxy A5 Sm-A520F</td>\n",
       "    </tr>\n",
       "    <tr>\n",
       "      <th>1</th>\n",
       "      <td>3.368e+10</td>\n",
       "      <td>65.0</td>\n",
       "      <td>5.0</td>\n",
       "      <td>16.0</td>\n",
       "      <td>26.0</td>\n",
       "      <td>NaN</td>\n",
       "      <td>NaN</td>\n",
       "      <td>100.0</td>\n",
       "      <td>0.0</td>\n",
       "      <td>0.0</td>\n",
       "      <td>0.0</td>\n",
       "      <td>100.0</td>\n",
       "      <td>0.0</td>\n",
       "      <td>0.0</td>\n",
       "      <td>0.0</td>\n",
       "      <td>Samsung Galaxy J5 (Sm-J530)</td>\n",
       "    </tr>\n",
       "    <tr>\n",
       "      <th>2</th>\n",
       "      <td>3.376e+10</td>\n",
       "      <td>NaN</td>\n",
       "      <td>NaN</td>\n",
       "      <td>6.0</td>\n",
       "      <td>9.0</td>\n",
       "      <td>NaN</td>\n",
       "      <td>NaN</td>\n",
       "      <td>100.0</td>\n",
       "      <td>0.0</td>\n",
       "      <td>0.0</td>\n",
       "      <td>0.0</td>\n",
       "      <td>100.0</td>\n",
       "      <td>0.0</td>\n",
       "      <td>0.0</td>\n",
       "      <td>0.0</td>\n",
       "      <td>Samsung Galaxy A8 (2018)</td>\n",
       "    </tr>\n",
       "    <tr>\n",
       "      <th>3</th>\n",
       "      <td>3.375e+10</td>\n",
       "      <td>NaN</td>\n",
       "      <td>NaN</td>\n",
       "      <td>44.0</td>\n",
       "      <td>44.0</td>\n",
       "      <td>NaN</td>\n",
       "      <td>NaN</td>\n",
       "      <td>100.0</td>\n",
       "      <td>0.0</td>\n",
       "      <td>0.0</td>\n",
       "      <td>0.0</td>\n",
       "      <td>100.0</td>\n",
       "      <td>0.0</td>\n",
       "      <td>0.0</td>\n",
       "      <td>0.0</td>\n",
       "      <td>undefined</td>\n",
       "    </tr>\n",
       "    <tr>\n",
       "      <th>4</th>\n",
       "      <td>3.370e+10</td>\n",
       "      <td>NaN</td>\n",
       "      <td>NaN</td>\n",
       "      <td>6.0</td>\n",
       "      <td>9.0</td>\n",
       "      <td>NaN</td>\n",
       "      <td>NaN</td>\n",
       "      <td>100.0</td>\n",
       "      <td>0.0</td>\n",
       "      <td>0.0</td>\n",
       "      <td>0.0</td>\n",
       "      <td>100.0</td>\n",
       "      <td>0.0</td>\n",
       "      <td>0.0</td>\n",
       "      <td>0.0</td>\n",
       "      <td>Samsung Sm-G390F</td>\n",
       "    </tr>\n",
       "  </tbody>\n",
       "</table>\n",
       "</div>"
      ],
      "text/plain": [
       "   MSISDN/Number  Avg RTT DL (ms)  Avg RTT UL (ms)  Avg Bearer TP DL (kbps)  Avg Bearer TP UL (kbps)  TCP DL Retrans. Vol (Bytes)  TCP UL Retrans. Vol (Bytes)  DL TP < 50 Kbps (%)  50 Kbps < DL TP < 250 Kbps (%)  250 Kbps < DL TP < 1 Mbps (%)  DL TP > 1 Mbps (%)  UL TP < 10 Kbps (%)  10 Kbps < UL TP < 50 Kbps (%)  50 Kbps < UL TP < 300 Kbps (%)  UL TP > 300 Kbps (%)                 Handset Type\n",
       "0      3.366e+10             42.0              5.0                     23.0                     44.0                          NaN                          NaN                100.0                             0.0                            0.0                 0.0                100.0                            0.0                             0.0                   0.0   Samsung Galaxy A5 Sm-A520F\n",
       "1      3.368e+10             65.0              5.0                     16.0                     26.0                          NaN                          NaN                100.0                             0.0                            0.0                 0.0                100.0                            0.0                             0.0                   0.0  Samsung Galaxy J5 (Sm-J530)\n",
       "2      3.376e+10              NaN              NaN                      6.0                      9.0                          NaN                          NaN                100.0                             0.0                            0.0                 0.0                100.0                            0.0                             0.0                   0.0     Samsung Galaxy A8 (2018)\n",
       "3      3.375e+10              NaN              NaN                     44.0                     44.0                          NaN                          NaN                100.0                             0.0                            0.0                 0.0                100.0                            0.0                             0.0                   0.0                    undefined\n",
       "4      3.370e+10              NaN              NaN                      6.0                      9.0                          NaN                          NaN                100.0                             0.0                            0.0                 0.0                100.0                            0.0                             0.0                   0.0             Samsung Sm-G390F"
      ]
     },
     "execution_count": 8,
     "metadata": {},
     "output_type": "execute_result"
    }
   ],
   "source": [
    "experience_df.head()"
   ]
  },
  {
   "cell_type": "markdown",
   "id": "e3207c00",
   "metadata": {},
   "source": [
    "### Task 3. 1 - Aggregate, per customer, the following information (treat missing & outliers by replacing by the mean or the mode of the corresponding variable):\n",
    "    ●\tAverage TCP retransmission\n",
    "    ●\tAverage RTT\n",
    "    ●\tHandset type\n",
    "    ●\tAverage throughput\n"
   ]
  },
  {
   "cell_type": "markdown",
   "id": "26271d0c",
   "metadata": {},
   "source": [
    "#### Lets handle the missing values"
   ]
  },
  {
   "cell_type": "code",
   "execution_count": 9,
   "id": "7e434982",
   "metadata": {},
   "outputs": [
    {
     "data": {
      "text/plain": [
       "<AxesSubplot:>"
      ]
     },
     "execution_count": 9,
     "metadata": {},
     "output_type": "execute_result"
    },
    {
     "data": {
      "image/png": "[encoded data removed]",
      "text/plain": [
       "<Figure size 1130.4x595.44 with 1 Axes>"
      ]
     },
     "metadata": {},
     "output_type": "display_data"
    }
   ],
   "source": [
    "sns.set(rc={'figure.figsize':(15.7,8.27)})\n",
    "sns.heatmap(experience_df.isnull(),yticklabels=False,cbar=False,cmap='viridis')"
   ]
  },
  {
   "cell_type": "code",
   "execution_count": 10,
   "id": "68a2fa82",
   "metadata": {},
   "outputs": [],
   "source": [
    "def percent_missing(df):\n",
    "\n",
    "    totalCells = np.product(df.shape)\n",
    "    missingCount = df.isnull().sum()\n",
    "    totalMissing = missingCount.sum()\n",
    "    return round((totalMissing / totalCells) * 100, 2)"
   ]
  },
  {
   "cell_type": "code",
   "execution_count": 11,
   "id": "8fb27945",
   "metadata": {},
   "outputs": [
    {
     "name": "stdout",
     "output_type": "stream",
     "text": [
      "this data frame contains 10.34 % missing values.\n"
     ]
    }
   ],
   "source": [
    "print(\"this data frame contains\", percent_missing(experience_df), \"%\", \"missing values.\")"
   ]
  },
  {
   "cell_type": "code",
   "execution_count": 12,
   "id": "19cfbbf3",
   "metadata": {},
   "outputs": [],
   "source": [
    "experience_df['MSISDN/Number'] = experience_df['MSISDN/Number'].fillna(method='ffill')"
   ]
  },
  {
   "cell_type": "code",
   "execution_count": 13,
   "id": "c19405fb",
   "metadata": {},
   "outputs": [],
   "source": [
    "experience_df['Handset Type'] = experience_df['Handset Type'].fillna(method='ffill')"
   ]
  },
  {
   "cell_type": "code",
   "execution_count": 14,
   "id": "7d2afec7",
   "metadata": {},
   "outputs": [],
   "source": [
    "experience_df.fillna(experience_df.mean(), inplace=True)"
   ]
  },
  {
   "cell_type": "code",
   "execution_count": 15,
   "id": "147ee873",
   "metadata": {},
   "outputs": [
    {
     "name": "stdout",
     "output_type": "stream",
     "text": [
      "this data frame contains 0.0 % missing values.\n"
     ]
    }
   ],
   "source": [
    "print(\"this data frame contains\", percent_missing(experience_df), \"%\", \"missing values.\")"
   ]
  },
  {
   "cell_type": "markdown",
   "id": "d51051dc",
   "metadata": {},
   "source": [
    "### Lets handle outliners "
   ]
  },
  {
   "cell_type": "markdown",
   "id": "3fe18e9e",
   "metadata": {},
   "source": [
    "#### check outliners"
   ]
  },
  {
   "cell_type": "code",
   "execution_count": 16,
   "id": "7a1a0def",
   "metadata": {},
   "outputs": [
    {
     "data": {
      "text/plain": [
       "<AxesSubplot:xlabel='DL TP > 1 Mbps (%)'>"
      ]
     },
     "execution_count": 16,
     "metadata": {},
     "output_type": "execute_result"
    },
    {
     "data": {
      "image/png": "[encoded data removed]",
      "text/plain": [
       "<Figure size 1130.4x595.44 with 1 Axes>"
      ]
     },
     "metadata": {},
     "output_type": "display_data"
    }
   ],
   "source": [
    "sns.boxplot(x=experience_df['DL TP > 1 Mbps (%)'],data=experience_df)"
   ]
  },
  {
   "cell_type": "code",
   "execution_count": 17,
   "id": "8dd673fd",
   "metadata": {},
   "outputs": [],
   "source": [
    "def outlier(df):\n",
    "    column_name=['Avg RTT DL (ms)','Avg RTT UL (ms)','TCP DL Retrans. Vol (Bytes)', 'TCP UL Retrans. Vol (Bytes)',\n",
    "                'TCP DL Retrans. Vol (Bytes)', 'TCP UL Retrans. Vol (Bytes)',\n",
    "                'DL TP < 50 Kbps (%)', '50 Kbps < DL TP < 250 Kbps (%)',\n",
    "                '250 Kbps < DL TP < 1 Mbps (%)', 'DL TP > 1 Mbps (%)',\n",
    "                'UL TP < 10 Kbps (%)', '10 Kbps < UL TP < 50 Kbps (%)',\n",
    "                '50 Kbps < UL TP < 300 Kbps (%)', 'UL TP > 300 Kbps (%)']\n",
    "    for i in column_name:\n",
    "        upper_quartile=df[i].quantile(0.75)\n",
    "        lower_quartile=df[i].quantile(0.25)\n",
    "        df[i]=np.where(df[i]>upper_quartile,df[i].mean(),np.where(df[i]<lower_quartile,df[i].mean(),df[i]))\n",
    "    return df"
   ]
  },
  {
   "cell_type": "code",
   "execution_count": 18,
   "id": "4fc1d411",
   "metadata": {},
   "outputs": [],
   "source": [
    "experience_r_df=outlier(experience_df)"
   ]
  },
  {
   "cell_type": "code",
   "execution_count": 19,
   "id": "8f9500c4",
   "metadata": {},
   "outputs": [
    {
     "name": "stdout",
     "output_type": "stream",
     "text": [
      "<class 'pandas.core.frame.DataFrame'>\n",
      "RangeIndex: 150001 entries, 0 to 150000\n",
      "Data columns (total 16 columns):\n",
      " #   Column                          Non-Null Count   Dtype  \n",
      "---  ------                          --------------   -----  \n",
      " 0   MSISDN/Number                   150001 non-null  float64\n",
      " 1   Avg RTT DL (ms)                 150001 non-null  float64\n",
      " 2   Avg RTT UL (ms)                 150001 non-null  float64\n",
      " 3   Avg Bearer TP DL (kbps)         150001 non-null  float64\n",
      " 4   Avg Bearer TP UL (kbps)         150001 non-null  float64\n",
      " 5   TCP DL Retrans. Vol (Bytes)     150001 non-null  float64\n",
      " 6   TCP UL Retrans. Vol (Bytes)     150001 non-null  float64\n",
      " 7   DL TP < 50 Kbps (%)             150001 non-null  float64\n",
      " 8   50 Kbps < DL TP < 250 Kbps (%)  150001 non-null  float64\n",
      " 9   250 Kbps < DL TP < 1 Mbps (%)   150001 non-null  float64\n",
      " 10  DL TP > 1 Mbps (%)              150001 non-null  float64\n",
      " 11  UL TP < 10 Kbps (%)             150001 non-null  float64\n",
      " 12  10 Kbps < UL TP < 50 Kbps (%)   150001 non-null  float64\n",
      " 13  50 Kbps < UL TP < 300 Kbps (%)  150001 non-null  float64\n",
      " 14  UL TP > 300 Kbps (%)            150001 non-null  float64\n",
      " 15  Handset Type                    150001 non-null  object \n",
      "dtypes: float64(15), object(1)\n",
      "memory usage: 18.3+ MB\n"
     ]
    }
   ],
   "source": [
    "experience_df.info()"
   ]
  },
  {
   "cell_type": "markdown",
   "id": "98205b86",
   "metadata": {},
   "source": [
    "#### Check for outliners"
   ]
  },
  {
   "cell_type": "code",
   "execution_count": 20,
   "id": "5e6bc4ec",
   "metadata": {},
   "outputs": [
    {
     "data": {
      "text/plain": [
       "<AxesSubplot:xlabel='DL TP > 1 Mbps (%)'>"
      ]
     },
     "execution_count": 20,
     "metadata": {},
     "output_type": "execute_result"
    },
    {
     "data": {
      "image/png": "[encoded data removed]",
      "text/plain": [
       "<Figure size 1130.4x595.44 with 1 Axes>"
      ]
     },
     "metadata": {},
     "output_type": "display_data"
    }
   ],
   "source": [
    "sns.boxplot(x=experience_df['DL TP > 1 Mbps (%)'],data=experience_df)"
   ]
  },
  {
   "cell_type": "code",
   "execution_count": 28,
   "id": "aee61b06",
   "metadata": {},
   "outputs": [],
   "source": [
    "#Calculate total TCP,RTT and Throughput\n",
    "experience_r_df[\"Total TCP\"]=experience_r_df['TCP DL Retrans. Vol (Bytes)']+ experience_r_df['TCP UL Retrans. Vol (Bytes)']+experience_r_df['TCP DL Retrans. Vol (Bytes)']+ experience_r_df['TCP UL Retrans. Vol (Bytes)']\n",
    "experience_r_df[\"Total RTT\"]=experience_r_df['Avg RTT DL (ms)']+experience_r_df['Avg RTT UL (ms)']\n",
    "experience_r_df[\"Total Throughput\"]=experience_r_df['DL TP < 50 Kbps (%)']+experience_r_df['50 Kbps < DL TP < 250 Kbps (%)']+experience_r_df['250 Kbps < DL TP < 1 Mbps (%)']+experience_r_df['DL TP > 1 Mbps (%)']+experience_r_df['UL TP < 10 Kbps (%)']+experience_r_df['10 Kbps < UL TP < 50 Kbps (%)']+experience_r_df['50 Kbps < UL TP < 300 Kbps (%)']+experience_r_df['UL TP > 300 Kbps (%)']"
   ]
  },
  {
   "cell_type": "code",
   "execution_count": 29,
   "id": "49d4c191",
   "metadata": {},
   "outputs": [],
   "source": [
    "experience_agg_by_customer = experience_r_df.groupby('MSISDN/Number').agg({'Total TCP': 'sum',\n",
    "                                                                          'Total RTT': 'sum',\n",
    "                                                                          'Total Throughput': 'sum', \n",
    "                                                                           'Handset Type': lambda x: x.mode()[0]})"
   ]
  },
  {
   "cell_type": "code",
   "execution_count": 30,
   "id": "13af17c5",
   "metadata": {},
   "outputs": [
    {
     "data": {
      "text/html": [
       "<div>\n",
       "<style scoped>\n",
       "    .dataframe tbody tr th:only-of-type {\n",
       "        vertical-align: middle;\n",
       "    }\n",
       "\n",
       "    .dataframe tbody tr th {\n",
       "        vertical-align: top;\n",
       "    }\n",
       "\n",
       "    .dataframe thead th {\n",
       "        text-align: right;\n",
       "    }\n",
       "</style>\n",
       "<table border=\"1\" class=\"dataframe\">\n",
       "  <thead>\n",
       "    <tr style=\"text-align: right;\">\n",
       "      <th></th>\n",
       "      <th>Total TCP</th>\n",
       "      <th>Total RTT</th>\n",
       "      <th>Total Throughput</th>\n",
       "      <th>Handset Type</th>\n",
       "    </tr>\n",
       "    <tr>\n",
       "      <th>MSISDN/Number</th>\n",
       "      <th></th>\n",
       "      <th></th>\n",
       "      <th></th>\n",
       "      <th></th>\n",
       "    </tr>\n",
       "  </thead>\n",
       "  <tbody>\n",
       "    <tr>\n",
       "      <th>3.360e+10</th>\n",
       "      <td>4.314e+07</td>\n",
       "      <td>63.663</td>\n",
       "      <td>200.000</td>\n",
       "      <td>Huawei P20 Lite Huawei Nova 3E</td>\n",
       "    </tr>\n",
       "    <tr>\n",
       "      <th>3.360e+10</th>\n",
       "      <td>4.314e+07</td>\n",
       "      <td>127.459</td>\n",
       "      <td>200.000</td>\n",
       "      <td>Apple iPhone 7 (A1778)</td>\n",
       "    </tr>\n",
       "    <tr>\n",
       "      <th>3.360e+10</th>\n",
       "      <td>4.314e+07</td>\n",
       "      <td>127.459</td>\n",
       "      <td>200.000</td>\n",
       "      <td>undefined</td>\n",
       "    </tr>\n",
       "    <tr>\n",
       "      <th>3.360e+10</th>\n",
       "      <td>4.314e+07</td>\n",
       "      <td>84.000</td>\n",
       "      <td>200.000</td>\n",
       "      <td>Apple iPhone 5S (A1457)</td>\n",
       "    </tr>\n",
       "    <tr>\n",
       "      <th>3.360e+10</th>\n",
       "      <td>8.245e+07</td>\n",
       "      <td>218.459</td>\n",
       "      <td>398.548</td>\n",
       "      <td>Apple iPhone Se (A1723)</td>\n",
       "    </tr>\n",
       "  </tbody>\n",
       "</table>\n",
       "</div>"
      ],
      "text/plain": [
       "               Total TCP  Total RTT  Total Throughput                    Handset Type\n",
       "MSISDN/Number                                                                        \n",
       "3.360e+10      4.314e+07     63.663           200.000  Huawei P20 Lite Huawei Nova 3E\n",
       "3.360e+10      4.314e+07    127.459           200.000          Apple iPhone 7 (A1778)\n",
       "3.360e+10      4.314e+07    127.459           200.000                       undefined\n",
       "3.360e+10      4.314e+07     84.000           200.000         Apple iPhone 5S (A1457)\n",
       "3.360e+10      8.245e+07    218.459           398.548         Apple iPhone Se (A1723)"
      ]
     },
     "execution_count": 30,
     "metadata": {},
     "output_type": "execute_result"
    }
   ],
   "source": [
    "experience_agg_by_customer.head()"
   ]
  },
  {
   "cell_type": "markdown",
   "id": "8d36a1de",
   "metadata": {},
   "source": [
    "### Task 3.2 - Compute & list 10 of the top, bottom and most frequent:\n",
    "    a.\tTCP values in the dataset. \n",
    "    b.\tRTT values in the dataset.\n",
    "    c.\tThroughput values in the dataset.\n"
   ]
  },
  {
   "cell_type": "markdown",
   "id": "d308cd0d",
   "metadata": {},
   "source": [
    "#### a.    TCP values in the dataset. "
   ]
  },
  {
   "cell_type": "code",
   "execution_count": 31,
   "id": "656103d2",
   "metadata": {},
   "outputs": [],
   "source": [
    "tcp_trans = experience_agg_by_customer.sort_values(by=['Total TCP'], ascending=False)\n",
    "\n",
    "top_10_tcp = tcp_trans.head(10)\n",
    "bot_10_tcp = tcp_trans.tail(10)\n",
    "most_tcp_frq = tcp_trans['Total TCP'].value_counts().head(10)"
   ]
  },
  {
   "cell_type": "code",
   "execution_count": 32,
   "id": "2b5a5ef9",
   "metadata": {},
   "outputs": [
    {
     "data": {
      "text/html": [
       "<div>\n",
       "<style scoped>\n",
       "    .dataframe tbody tr th:only-of-type {\n",
       "        vertical-align: middle;\n",
       "    }\n",
       "\n",
       "    .dataframe tbody tr th {\n",
       "        vertical-align: top;\n",
       "    }\n",
       "\n",
       "    .dataframe thead th {\n",
       "        text-align: right;\n",
       "    }\n",
       "</style>\n",
       "<table border=\"1\" class=\"dataframe\">\n",
       "  <thead>\n",
       "    <tr style=\"text-align: right;\">\n",
       "      <th></th>\n",
       "      <th>Total TCP</th>\n",
       "    </tr>\n",
       "    <tr>\n",
       "      <th>MSISDN/Number</th>\n",
       "      <th></th>\n",
       "    </tr>\n",
       "  </thead>\n",
       "  <tbody>\n",
       "    <tr>\n",
       "      <th>3.363e+10</th>\n",
       "      <td>7.765e+08</td>\n",
       "    </tr>\n",
       "    <tr>\n",
       "      <th>3.361e+10</th>\n",
       "      <td>7.334e+08</td>\n",
       "    </tr>\n",
       "    <tr>\n",
       "      <th>3.363e+10</th>\n",
       "      <td>7.334e+08</td>\n",
       "    </tr>\n",
       "    <tr>\n",
       "      <th>3.366e+10</th>\n",
       "      <td>6.902e+08</td>\n",
       "    </tr>\n",
       "    <tr>\n",
       "      <th>3.376e+10</th>\n",
       "      <td>6.393e+08</td>\n",
       "    </tr>\n",
       "    <tr>\n",
       "      <th>3.368e+10</th>\n",
       "      <td>6.197e+08</td>\n",
       "    </tr>\n",
       "    <tr>\n",
       "      <th>3.367e+10</th>\n",
       "      <td>5.570e+08</td>\n",
       "    </tr>\n",
       "    <tr>\n",
       "      <th>3.379e+10</th>\n",
       "      <td>5.177e+08</td>\n",
       "    </tr>\n",
       "    <tr>\n",
       "      <th>3.363e+10</th>\n",
       "      <td>5.177e+08</td>\n",
       "    </tr>\n",
       "    <tr>\n",
       "      <th>3.360e+10</th>\n",
       "      <td>5.138e+08</td>\n",
       "    </tr>\n",
       "  </tbody>\n",
       "</table>\n",
       "</div>"
      ],
      "text/plain": [
       "               Total TCP\n",
       "MSISDN/Number           \n",
       "3.363e+10      7.765e+08\n",
       "3.361e+10      7.334e+08\n",
       "3.363e+10      7.334e+08\n",
       "3.366e+10      6.902e+08\n",
       "3.376e+10      6.393e+08\n",
       "3.368e+10      6.197e+08\n",
       "3.367e+10      5.570e+08\n",
       "3.379e+10      5.177e+08\n",
       "3.363e+10      5.177e+08\n",
       "3.360e+10      5.138e+08"
      ]
     },
     "execution_count": 32,
     "metadata": {},
     "output_type": "execute_result"
    }
   ],
   "source": [
    "top_10_tcp[['Total TCP']]"
   ]
  },
  {
   "cell_type": "code",
   "execution_count": 33,
   "id": "113e73ed",
   "metadata": {},
   "outputs": [
    {
     "data": {
      "text/html": [
       "<div>\n",
       "<style scoped>\n",
       "    .dataframe tbody tr th:only-of-type {\n",
       "        vertical-align: middle;\n",
       "    }\n",
       "\n",
       "    .dataframe tbody tr th {\n",
       "        vertical-align: top;\n",
       "    }\n",
       "\n",
       "    .dataframe thead th {\n",
       "        text-align: right;\n",
       "    }\n",
       "</style>\n",
       "<table border=\"1\" class=\"dataframe\">\n",
       "  <thead>\n",
       "    <tr style=\"text-align: right;\">\n",
       "      <th></th>\n",
       "      <th>Total TCP</th>\n",
       "    </tr>\n",
       "    <tr>\n",
       "      <th>MSISDN/Number</th>\n",
       "      <th></th>\n",
       "    </tr>\n",
       "  </thead>\n",
       "  <tbody>\n",
       "    <tr>\n",
       "      <th>3.365e+10</th>\n",
       "      <td>3.922e+07</td>\n",
       "    </tr>\n",
       "    <tr>\n",
       "      <th>3.361e+10</th>\n",
       "      <td>3.922e+07</td>\n",
       "    </tr>\n",
       "    <tr>\n",
       "      <th>3.365e+10</th>\n",
       "      <td>3.922e+07</td>\n",
       "    </tr>\n",
       "    <tr>\n",
       "      <th>3.366e+10</th>\n",
       "      <td>3.922e+07</td>\n",
       "    </tr>\n",
       "    <tr>\n",
       "      <th>3.368e+10</th>\n",
       "      <td>3.922e+07</td>\n",
       "    </tr>\n",
       "    <tr>\n",
       "      <th>3.365e+10</th>\n",
       "      <td>3.922e+07</td>\n",
       "    </tr>\n",
       "    <tr>\n",
       "      <th>3.368e+10</th>\n",
       "      <td>3.922e+07</td>\n",
       "    </tr>\n",
       "    <tr>\n",
       "      <th>3.365e+10</th>\n",
       "      <td>3.922e+07</td>\n",
       "    </tr>\n",
       "    <tr>\n",
       "      <th>3.368e+10</th>\n",
       "      <td>3.922e+07</td>\n",
       "    </tr>\n",
       "    <tr>\n",
       "      <th>3.367e+10</th>\n",
       "      <td>3.922e+07</td>\n",
       "    </tr>\n",
       "  </tbody>\n",
       "</table>\n",
       "</div>"
      ],
      "text/plain": [
       "               Total TCP\n",
       "MSISDN/Number           \n",
       "3.365e+10      3.922e+07\n",
       "3.361e+10      3.922e+07\n",
       "3.365e+10      3.922e+07\n",
       "3.366e+10      3.922e+07\n",
       "3.368e+10      3.922e+07\n",
       "3.365e+10      3.922e+07\n",
       "3.368e+10      3.922e+07\n",
       "3.365e+10      3.922e+07\n",
       "3.368e+10      3.922e+07\n",
       "3.367e+10      3.922e+07"
      ]
     },
     "execution_count": 33,
     "metadata": {},
     "output_type": "execute_result"
    }
   ],
   "source": [
    "bot_10_tcp[['Total TCP']]"
   ]
  },
  {
   "cell_type": "code",
   "execution_count": 34,
   "id": "ab6491ea",
   "metadata": {},
   "outputs": [
    {
     "data": {
      "text/plain": [
       "4.314e+07    46854\n",
       "4.314e+07    12579\n",
       "8.628e+07     7490\n",
       "4.314e+07     5672\n",
       "8.628e+07     4677\n",
       "3.931e+07     4566\n",
       "3.922e+07     3071\n",
       "4.304e+07     2365\n",
       "8.628e+07     2210\n",
       "4.314e+07     1671\n",
       "Name: Total TCP, dtype: int64"
      ]
     },
     "execution_count": 34,
     "metadata": {},
     "output_type": "execute_result"
    }
   ],
   "source": [
    "most_tcp_frq"
   ]
  },
  {
   "cell_type": "markdown",
   "id": "25ba7b84",
   "metadata": {},
   "source": [
    "### b.    RTT values in the dataset."
   ]
  },
  {
   "cell_type": "code",
   "execution_count": 36,
   "id": "d75db601",
   "metadata": {},
   "outputs": [],
   "source": [
    "tcp_rtt = experience_agg_by_customer.sort_values(by=['Total RTT'], ascending=False)\n",
    "\n",
    "top_10_rtt = tcp_rtt.head(10)\n",
    "bot_10_rtt = tcp_rtt.tail(10)\n",
    "most_rtt_frq = tcp_rtt['Total RTT'].value_counts().head(10)"
   ]
  },
  {
   "cell_type": "code",
   "execution_count": 37,
   "id": "e13e9150",
   "metadata": {},
   "outputs": [
    {
     "data": {
      "text/html": [
       "<div>\n",
       "<style scoped>\n",
       "    .dataframe tbody tr th:only-of-type {\n",
       "        vertical-align: middle;\n",
       "    }\n",
       "\n",
       "    .dataframe tbody tr th {\n",
       "        vertical-align: top;\n",
       "    }\n",
       "\n",
       "    .dataframe thead th {\n",
       "        text-align: right;\n",
       "    }\n",
       "</style>\n",
       "<table border=\"1\" class=\"dataframe\">\n",
       "  <thead>\n",
       "    <tr style=\"text-align: right;\">\n",
       "      <th></th>\n",
       "      <th>Total RTT</th>\n",
       "    </tr>\n",
       "    <tr>\n",
       "      <th>MSISDN/Number</th>\n",
       "      <th></th>\n",
       "    </tr>\n",
       "  </thead>\n",
       "  <tbody>\n",
       "    <tr>\n",
       "      <th>3.363e+10</th>\n",
       "      <td>2210.277</td>\n",
       "    </tr>\n",
       "    <tr>\n",
       "      <th>3.361e+10</th>\n",
       "      <td>2023.697</td>\n",
       "    </tr>\n",
       "    <tr>\n",
       "      <th>3.363e+10</th>\n",
       "      <td>1879.780</td>\n",
       "    </tr>\n",
       "    <tr>\n",
       "      <th>3.376e+10</th>\n",
       "      <td>1815.432</td>\n",
       "    </tr>\n",
       "    <tr>\n",
       "      <th>3.379e+10</th>\n",
       "      <td>1513.177</td>\n",
       "    </tr>\n",
       "    <tr>\n",
       "      <th>3.367e+10</th>\n",
       "      <td>1469.382</td>\n",
       "    </tr>\n",
       "    <tr>\n",
       "      <th>3.367e+10</th>\n",
       "      <td>1321.404</td>\n",
       "    </tr>\n",
       "    <tr>\n",
       "      <th>3.366e+10</th>\n",
       "      <td>1257.077</td>\n",
       "    </tr>\n",
       "    <tr>\n",
       "      <th>3.363e+10</th>\n",
       "      <td>1245.403</td>\n",
       "    </tr>\n",
       "    <tr>\n",
       "      <th>3.366e+10</th>\n",
       "      <td>1228.790</td>\n",
       "    </tr>\n",
       "  </tbody>\n",
       "</table>\n",
       "</div>"
      ],
      "text/plain": [
       "               Total RTT\n",
       "MSISDN/Number           \n",
       "3.363e+10       2210.277\n",
       "3.361e+10       2023.697\n",
       "3.363e+10       1879.780\n",
       "3.376e+10       1815.432\n",
       "3.379e+10       1513.177\n",
       "3.367e+10       1469.382\n",
       "3.367e+10       1321.404\n",
       "3.366e+10       1257.077\n",
       "3.363e+10       1245.403\n",
       "3.366e+10       1228.790"
      ]
     },
     "execution_count": 37,
     "metadata": {},
     "output_type": "execute_result"
    }
   ],
   "source": [
    "top_10_rtt[['Total RTT']]"
   ]
  },
  {
   "cell_type": "code",
   "execution_count": 38,
   "id": "6b722037",
   "metadata": {},
   "outputs": [
    {
     "data": {
      "text/html": [
       "<div>\n",
       "<style scoped>\n",
       "    .dataframe tbody tr th:only-of-type {\n",
       "        vertical-align: middle;\n",
       "    }\n",
       "\n",
       "    .dataframe tbody tr th {\n",
       "        vertical-align: top;\n",
       "    }\n",
       "\n",
       "    .dataframe thead th {\n",
       "        text-align: right;\n",
       "    }\n",
       "</style>\n",
       "<table border=\"1\" class=\"dataframe\">\n",
       "  <thead>\n",
       "    <tr style=\"text-align: right;\">\n",
       "      <th></th>\n",
       "      <th>Total RTT</th>\n",
       "    </tr>\n",
       "    <tr>\n",
       "      <th>MSISDN/Number</th>\n",
       "      <th></th>\n",
       "    </tr>\n",
       "  </thead>\n",
       "  <tbody>\n",
       "    <tr>\n",
       "      <th>3.376e+10</th>\n",
       "      <td>38.0</td>\n",
       "    </tr>\n",
       "    <tr>\n",
       "      <th>3.362e+10</th>\n",
       "      <td>38.0</td>\n",
       "    </tr>\n",
       "    <tr>\n",
       "      <th>3.367e+10</th>\n",
       "      <td>38.0</td>\n",
       "    </tr>\n",
       "    <tr>\n",
       "      <th>3.363e+10</th>\n",
       "      <td>38.0</td>\n",
       "    </tr>\n",
       "    <tr>\n",
       "      <th>3.366e+10</th>\n",
       "      <td>38.0</td>\n",
       "    </tr>\n",
       "    <tr>\n",
       "      <th>3.368e+10</th>\n",
       "      <td>38.0</td>\n",
       "    </tr>\n",
       "    <tr>\n",
       "      <th>3.363e+10</th>\n",
       "      <td>38.0</td>\n",
       "    </tr>\n",
       "    <tr>\n",
       "      <th>3.362e+10</th>\n",
       "      <td>38.0</td>\n",
       "    </tr>\n",
       "    <tr>\n",
       "      <th>3.376e+10</th>\n",
       "      <td>38.0</td>\n",
       "    </tr>\n",
       "    <tr>\n",
       "      <th>3.366e+10</th>\n",
       "      <td>38.0</td>\n",
       "    </tr>\n",
       "  </tbody>\n",
       "</table>\n",
       "</div>"
      ],
      "text/plain": [
       "               Total RTT\n",
       "MSISDN/Number           \n",
       "3.376e+10           38.0\n",
       "3.362e+10           38.0\n",
       "3.367e+10           38.0\n",
       "3.363e+10           38.0\n",
       "3.366e+10           38.0\n",
       "3.368e+10           38.0\n",
       "3.363e+10           38.0\n",
       "3.362e+10           38.0\n",
       "3.376e+10           38.0\n",
       "3.366e+10           38.0"
      ]
     },
     "execution_count": 38,
     "metadata": {},
     "output_type": "execute_result"
    }
   ],
   "source": [
    "bot_10_rtt[['Total RTT']]"
   ]
  },
  {
   "cell_type": "code",
   "execution_count": 39,
   "id": "10e0d240",
   "metadata": {},
   "outputs": [
    {
     "data": {
      "text/plain": [
       "127.459    16272\n",
       "127.459    14662\n",
       "114.796     2961\n",
       "112.796     2190\n",
       "113.796     2130\n",
       "254.917     1928\n",
       "115.796     1714\n",
       "254.917     1334\n",
       "116.796     1029\n",
       "55.663       820\n",
       "Name: Total RTT, dtype: int64"
      ]
     },
     "execution_count": 39,
     "metadata": {},
     "output_type": "execute_result"
    }
   ],
   "source": [
    "most_rtt_frq"
   ]
  },
  {
   "cell_type": "markdown",
   "id": "acfb56e7",
   "metadata": {},
   "source": [
    "### c.    Throughput values in the dataset."
   ]
  },
  {
   "cell_type": "code",
   "execution_count": 40,
   "id": "6d8a38b7",
   "metadata": {},
   "outputs": [],
   "source": [
    "tcp_throuput = experience_agg_by_customer.sort_values(by=['Total Throughput'], ascending=False)\n",
    "\n",
    "top_10_throuput = tcp_throuput.head(10)\n",
    "bot_10_throuput = tcp_throuput.tail(10)\n",
    "most_rtt_throuput = tcp_throuput['Total Throughput'].value_counts().head(10)"
   ]
  },
  {
   "cell_type": "code",
   "execution_count": 41,
   "id": "785ba0da",
   "metadata": {},
   "outputs": [
    {
     "data": {
      "text/html": [
       "<div>\n",
       "<style scoped>\n",
       "    .dataframe tbody tr th:only-of-type {\n",
       "        vertical-align: middle;\n",
       "    }\n",
       "\n",
       "    .dataframe tbody tr th {\n",
       "        vertical-align: top;\n",
       "    }\n",
       "\n",
       "    .dataframe thead th {\n",
       "        text-align: right;\n",
       "    }\n",
       "</style>\n",
       "<table border=\"1\" class=\"dataframe\">\n",
       "  <thead>\n",
       "    <tr style=\"text-align: right;\">\n",
       "      <th></th>\n",
       "      <th>Total Throughput</th>\n",
       "    </tr>\n",
       "    <tr>\n",
       "      <th>MSISDN/Number</th>\n",
       "      <th></th>\n",
       "    </tr>\n",
       "  </thead>\n",
       "  <tbody>\n",
       "    <tr>\n",
       "      <th>3.363e+10</th>\n",
       "      <td>3573.983</td>\n",
       "    </tr>\n",
       "    <tr>\n",
       "      <th>3.363e+10</th>\n",
       "      <td>3375.530</td>\n",
       "    </tr>\n",
       "    <tr>\n",
       "      <th>3.361e+10</th>\n",
       "      <td>3364.821</td>\n",
       "    </tr>\n",
       "    <tr>\n",
       "      <th>3.366e+10</th>\n",
       "      <td>3172.722</td>\n",
       "    </tr>\n",
       "    <tr>\n",
       "      <th>3.376e+10</th>\n",
       "      <td>2985.938</td>\n",
       "    </tr>\n",
       "    <tr>\n",
       "      <th>3.368e+10</th>\n",
       "      <td>2976.010</td>\n",
       "    </tr>\n",
       "    <tr>\n",
       "      <th>3.367e+10</th>\n",
       "      <td>2572.451</td>\n",
       "    </tr>\n",
       "    <tr>\n",
       "      <th>3.379e+10</th>\n",
       "      <td>2388.937</td>\n",
       "    </tr>\n",
       "    <tr>\n",
       "      <th>3.376e+10</th>\n",
       "      <td>2386.290</td>\n",
       "    </tr>\n",
       "    <tr>\n",
       "      <th>3.363e+10</th>\n",
       "      <td>2385.307</td>\n",
       "    </tr>\n",
       "  </tbody>\n",
       "</table>\n",
       "</div>"
      ],
      "text/plain": [
       "               Total Throughput\n",
       "MSISDN/Number                  \n",
       "3.363e+10              3573.983\n",
       "3.363e+10              3375.530\n",
       "3.361e+10              3364.821\n",
       "3.366e+10              3172.722\n",
       "3.376e+10              2985.938\n",
       "3.368e+10              2976.010\n",
       "3.367e+10              2572.451\n",
       "3.379e+10              2388.937\n",
       "3.376e+10              2386.290\n",
       "3.363e+10              2385.307"
      ]
     },
     "execution_count": 41,
     "metadata": {},
     "output_type": "execute_result"
    }
   ],
   "source": [
    "top_10_throuput[['Total Throughput']]"
   ]
  },
  {
   "cell_type": "code",
   "execution_count": 42,
   "id": "bc1ad0c2",
   "metadata": {},
   "outputs": [
    {
     "data": {
      "text/html": [
       "<div>\n",
       "<style scoped>\n",
       "    .dataframe tbody tr th:only-of-type {\n",
       "        vertical-align: middle;\n",
       "    }\n",
       "\n",
       "    .dataframe tbody tr th {\n",
       "        vertical-align: top;\n",
       "    }\n",
       "\n",
       "    .dataframe thead th {\n",
       "        text-align: right;\n",
       "    }\n",
       "</style>\n",
       "<table border=\"1\" class=\"dataframe\">\n",
       "  <thead>\n",
       "    <tr style=\"text-align: right;\">\n",
       "      <th></th>\n",
       "      <th>Total Throughput</th>\n",
       "    </tr>\n",
       "    <tr>\n",
       "      <th>MSISDN/Number</th>\n",
       "      <th></th>\n",
       "    </tr>\n",
       "  </thead>\n",
       "  <tbody>\n",
       "    <tr>\n",
       "      <th>3.367e+10</th>\n",
       "      <td>192.917</td>\n",
       "    </tr>\n",
       "    <tr>\n",
       "      <th>3.365e+10</th>\n",
       "      <td>192.717</td>\n",
       "    </tr>\n",
       "    <tr>\n",
       "      <th>3.367e+10</th>\n",
       "      <td>192.610</td>\n",
       "    </tr>\n",
       "    <tr>\n",
       "      <th>3.370e+10</th>\n",
       "      <td>192.610</td>\n",
       "    </tr>\n",
       "    <tr>\n",
       "      <th>3.362e+10</th>\n",
       "      <td>192.610</td>\n",
       "    </tr>\n",
       "    <tr>\n",
       "      <th>3.366e+10</th>\n",
       "      <td>192.599</td>\n",
       "    </tr>\n",
       "    <tr>\n",
       "      <th>3.367e+10</th>\n",
       "      <td>192.140</td>\n",
       "    </tr>\n",
       "    <tr>\n",
       "      <th>3.366e+10</th>\n",
       "      <td>192.065</td>\n",
       "    </tr>\n",
       "    <tr>\n",
       "      <th>3.367e+10</th>\n",
       "      <td>191.917</td>\n",
       "    </tr>\n",
       "    <tr>\n",
       "      <th>3.366e+10</th>\n",
       "      <td>191.288</td>\n",
       "    </tr>\n",
       "  </tbody>\n",
       "</table>\n",
       "</div>"
      ],
      "text/plain": [
       "               Total Throughput\n",
       "MSISDN/Number                  \n",
       "3.367e+10               192.917\n",
       "3.365e+10               192.717\n",
       "3.367e+10               192.610\n",
       "3.370e+10               192.610\n",
       "3.362e+10               192.610\n",
       "3.366e+10               192.599\n",
       "3.367e+10               192.140\n",
       "3.366e+10               192.065\n",
       "3.367e+10               191.917\n",
       "3.366e+10               191.288"
      ]
     },
     "execution_count": 42,
     "metadata": {},
     "output_type": "execute_result"
    }
   ],
   "source": [
    "bot_10_throuput[['Total Throughput']]"
   ]
  },
  {
   "cell_type": "code",
   "execution_count": 43,
   "id": "25a87604",
   "metadata": {},
   "outputs": [
    {
     "data": {
      "text/plain": [
       "200.000    47450\n",
       "400.000     7146\n",
       "198.548     5104\n",
       "199.000     3069\n",
       "198.000     2802\n",
       "398.548     2594\n",
       "198.241     1993\n",
       "197.000     1901\n",
       "196.631     1069\n",
       "197.631     1006\n",
       "Name: Total Throughput, dtype: int64"
      ]
     },
     "execution_count": 43,
     "metadata": {},
     "output_type": "execute_result"
    }
   ],
   "source": [
    "most_rtt_throuput"
   ]
  },
  {
   "cell_type": "markdown",
   "id": "8993e782",
   "metadata": {},
   "source": [
    "### Task 3.3 - Compute & report:\n",
    "    d.\tThe distribution of the average throughput  per handset type and provide interpretation for your findings.\n",
    "    e.\tThe average TCP retransmission view per handset type and provide interpretation for your findings.\n"
   ]
  },
  {
   "cell_type": "code",
   "execution_count": 44,
   "id": "66daedc0",
   "metadata": {},
   "outputs": [
    {
     "data": {
      "text/html": [
       "<div>\n",
       "<style scoped>\n",
       "    .dataframe tbody tr th:only-of-type {\n",
       "        vertical-align: middle;\n",
       "    }\n",
       "\n",
       "    .dataframe tbody tr th {\n",
       "        vertical-align: top;\n",
       "    }\n",
       "\n",
       "    .dataframe thead th {\n",
       "        text-align: right;\n",
       "    }\n",
       "</style>\n",
       "<table border=\"1\" class=\"dataframe\">\n",
       "  <thead>\n",
       "    <tr style=\"text-align: right;\">\n",
       "      <th></th>\n",
       "      <th>Total Throughput</th>\n",
       "      <th>Total RTT</th>\n",
       "    </tr>\n",
       "    <tr>\n",
       "      <th>Handset Type</th>\n",
       "      <th></th>\n",
       "      <th></th>\n",
       "    </tr>\n",
       "  </thead>\n",
       "  <tbody>\n",
       "    <tr>\n",
       "      <th>A-Link Telecom I. Cubot A5</th>\n",
       "      <td>197.454</td>\n",
       "      <td>57.663</td>\n",
       "    </tr>\n",
       "    <tr>\n",
       "      <th>A-Link Telecom I. Cubot Note Plus</th>\n",
       "      <td>198.717</td>\n",
       "      <td>117.796</td>\n",
       "    </tr>\n",
       "    <tr>\n",
       "      <th>A-Link Telecom I. Cubot Note S</th>\n",
       "      <td>198.241</td>\n",
       "      <td>113.796</td>\n",
       "    </tr>\n",
       "    <tr>\n",
       "      <th>A-Link Telecom I. Cubot Nova</th>\n",
       "      <td>198.548</td>\n",
       "      <td>44.000</td>\n",
       "    </tr>\n",
       "    <tr>\n",
       "      <th>A-Link Telecom I. Cubot Power</th>\n",
       "      <td>198.241</td>\n",
       "      <td>43.000</td>\n",
       "    </tr>\n",
       "  </tbody>\n",
       "</table>\n",
       "</div>"
      ],
      "text/plain": [
       "                                   Total Throughput  Total RTT\n",
       "Handset Type                                                  \n",
       "A-Link Telecom I. Cubot A5                  197.454     57.663\n",
       "A-Link Telecom I. Cubot Note Plus           198.717    117.796\n",
       "A-Link Telecom I. Cubot Note S              198.241    113.796\n",
       "A-Link Telecom I. Cubot Nova                198.548     44.000\n",
       "A-Link Telecom I. Cubot Power               198.241     43.000"
      ]
     },
     "execution_count": 44,
     "metadata": {},
     "output_type": "execute_result"
    }
   ],
   "source": [
    "handset_type_df = experience_agg_by_customer.groupby('Handset Type').agg(\n",
    "    {'Total Throughput': 'mean', 'Total RTT': 'mean'})\n",
    "handset_type_df.head()"
   ]
  },
  {
   "cell_type": "code",
   "execution_count": 45,
   "id": "94a2571f",
   "metadata": {},
   "outputs": [],
   "source": [
    "sorted_by_tp = handset_type_df.sort_values(\n",
    "    'Total Throughput', ascending=False)\n",
    "top_tp = sorted_by_tp['Total Throughput']"
   ]
  },
  {
   "cell_type": "code",
   "execution_count": 46,
   "id": "d4fe84af",
   "metadata": {},
   "outputs": [
    {
     "data": {
      "text/plain": [
       "Handset Type\n",
       "Huawei Me909S-120                           698.920\n",
       "Huawei B618S-22D                            663.039\n",
       "Apple iPhone Xr (A2106)                     598.500\n",
       "Huawei Evr-Al00                             598.000\n",
       "D-Link Corporati. D-Link Lte Usb Adaptor    597.988\n",
       "Name: Total Throughput, dtype: float64"
      ]
     },
     "execution_count": 46,
     "metadata": {},
     "output_type": "execute_result"
    }
   ],
   "source": [
    "top_tp.head()"
   ]
  },
  {
   "cell_type": "code",
   "execution_count": 58,
   "id": "ac7d843d",
   "metadata": {},
   "outputs": [],
   "source": [
    "sorted_by_tcp = handset_type_df.sort_values(\n",
    "    'Total RTT', ascending=False)\n",
    "top_tcp = sorted_by_tcp['Total RTT']"
   ]
  },
  {
   "cell_type": "code",
   "execution_count": 59,
   "id": "2f67a836",
   "metadata": {},
   "outputs": [
    {
     "data": {
      "text/plain": [
       "Handset Type\n",
       "Huawei Me909S-120                 425.876\n",
       "Huawei B618S-22D                  409.890\n",
       "Huawei Evr-Al00                   309.580\n",
       "Tp-Link Technolo. Archer Mr200    287.266\n",
       "Apple iPhone Xr (A2106)           259.453\n",
       "Name: Total RTT, dtype: float64"
      ]
     },
     "execution_count": 59,
     "metadata": {},
     "output_type": "execute_result"
    }
   ],
   "source": [
    "top_tcp.head()"
   ]
  },
  {
   "cell_type": "markdown",
   "id": "e5fdf814",
   "metadata": {},
   "source": [
    "### Task 3.4 - Using the experience metrics above, perform a k-means clustering (where k = 3) to segment users into groups of experiences and provide a brief description of each cluster. "
   ]
  },
  {
   "cell_type": "code",
   "execution_count": 70,
   "id": "4771b10e",
   "metadata": {},
   "outputs": [],
   "source": [
    "from sklearn.preprocessing import Normalizer, MinMaxScaler\n",
    "from sklearn.cluster import KMeans\n",
    "\n",
    "\n",
    "def normalizer(df, columns):\n",
    "    norm = Normalizer()\n",
    "    return pd.DataFrame(norm.fit_transform(df), columns=columns)\n",
    "\n",
    "def scaler(df, columns):\n",
    "    minmax_scaler = MinMaxScaler()\n",
    "    return pd.DataFrame(minmax_scaler.fit_transform(df), columns=columns)\n",
    "\n",
    "def scale_and_normalize(df,columns ):\n",
    "    return normalizer(scaler(df, columns), columns)"
   ]
  },
  {
   "cell_type": "code",
   "execution_count": 71,
   "id": "3daa0764",
   "metadata": {},
   "outputs": [],
   "source": [
    "def cluser_label(x: int, cols: list = []) -> str:\n",
    "    if (not type(x) == int):\n",
    "        return x\n",
    "    if (x < len(cols)):\n",
    "        return cols[x]\n",
    "\n",
    "    return str(x)"
   ]
  },
  {
   "cell_type": "code",
   "execution_count": 72,
   "id": "8d0bb160",
   "metadata": {},
   "outputs": [
    {
     "data": {
      "text/html": [
       "<div>\n",
       "<style scoped>\n",
       "    .dataframe tbody tr th:only-of-type {\n",
       "        vertical-align: middle;\n",
       "    }\n",
       "\n",
       "    .dataframe tbody tr th {\n",
       "        vertical-align: top;\n",
       "    }\n",
       "\n",
       "    .dataframe thead th {\n",
       "        text-align: right;\n",
       "    }\n",
       "</style>\n",
       "<table border=\"1\" class=\"dataframe\">\n",
       "  <thead>\n",
       "    <tr style=\"text-align: right;\">\n",
       "      <th></th>\n",
       "      <th>Total TCP</th>\n",
       "      <th>Total RTT</th>\n",
       "      <th>Total Throughput</th>\n",
       "    </tr>\n",
       "  </thead>\n",
       "  <tbody>\n",
       "    <tr>\n",
       "      <th>count</th>\n",
       "      <td>106856.000</td>\n",
       "      <td>106856.000</td>\n",
       "      <td>106856.000</td>\n",
       "    </tr>\n",
       "    <tr>\n",
       "      <th>mean</th>\n",
       "      <td>0.331</td>\n",
       "      <td>0.828</td>\n",
       "      <td>0.239</td>\n",
       "    </tr>\n",
       "    <tr>\n",
       "      <th>std</th>\n",
       "      <td>0.237</td>\n",
       "      <td>0.213</td>\n",
       "      <td>0.216</td>\n",
       "    </tr>\n",
       "    <tr>\n",
       "      <th>min</th>\n",
       "      <td>0.000</td>\n",
       "      <td>0.000</td>\n",
       "      <td>0.000</td>\n",
       "    </tr>\n",
       "    <tr>\n",
       "      <th>25%</th>\n",
       "      <td>0.128</td>\n",
       "      <td>0.694</td>\n",
       "      <td>0.062</td>\n",
       "    </tr>\n",
       "    <tr>\n",
       "      <th>50%</th>\n",
       "      <td>0.234</td>\n",
       "      <td>0.963</td>\n",
       "      <td>0.116</td>\n",
       "    </tr>\n",
       "    <tr>\n",
       "      <th>75%</th>\n",
       "      <td>0.549</td>\n",
       "      <td>0.990</td>\n",
       "      <td>0.462</td>\n",
       "    </tr>\n",
       "    <tr>\n",
       "      <th>max</th>\n",
       "      <td>0.988</td>\n",
       "      <td>1.000</td>\n",
       "      <td>1.000</td>\n",
       "    </tr>\n",
       "  </tbody>\n",
       "</table>\n",
       "</div>"
      ],
      "text/plain": [
       "        Total TCP   Total RTT  Total Throughput\n",
       "count  106856.000  106856.000        106856.000\n",
       "mean        0.331       0.828             0.239\n",
       "std         0.237       0.213             0.216\n",
       "min         0.000       0.000             0.000\n",
       "25%         0.128       0.694             0.062\n",
       "50%         0.234       0.963             0.116\n",
       "75%         0.549       0.990             0.462\n",
       "max         0.988       1.000             1.000"
      ]
     },
     "execution_count": 72,
     "metadata": {},
     "output_type": "execute_result"
    }
   ],
   "source": [
    "metrics = experience_agg_by_customer[[ 'Total TCP','Total RTT', 'Total Throughput']]\n",
    "normalized_metrics = scale_and_normalize(metrics, [ 'Total TCP','Total RTT', 'Total Throughput'])\n",
    "normalized_metrics.describe()"
   ]
  },
  {
   "cell_type": "code",
   "execution_count": 78,
   "id": "2fa434c5",
   "metadata": {},
   "outputs": [
    {
     "data": {
      "text/plain": [
       "0    59601\n",
       "1    23684\n",
       "2    23571\n",
       "Name: clusters, dtype: int64"
      ]
     },
     "execution_count": 78,
     "metadata": {},
     "output_type": "execute_result"
    }
   ],
   "source": [
    "kmeans = KMeans(n_clusters=3, init='k-means++').fit(normalized_metrics)\n",
    "pred = kmeans.predict(normalized_metrics)\n",
    "\n",
    "experience_metrics_with_cluster = experience_agg_by_customer.copy()\n",
    "experience_metrics_with_cluster['clusters'] = pred\n",
    "experience_metrics_with_cluster['clusters'].value_counts()"
   ]
  },
  {
   "cell_type": "code",
   "execution_count": 79,
   "id": "89dabdfc",
   "metadata": {},
   "outputs": [],
   "source": [
    "experience_metrics_with_cluster = experience_metrics_with_cluster.rename(columns={'Total TCP': 'Total_TCP', 'Total RTT': 'Total_RTT','Total Throughput':'Total_Throughput'})"
   ]
  },
  {
   "cell_type": "code",
   "execution_count": 82,
   "id": "9c9ecfea",
   "metadata": {},
   "outputs": [
    {
     "data": {
      "image/png": "[encoded data removed]",
      "text/plain": [
       "<Figure size 1440x1440 with 1 Axes>"
      ]
     },
     "metadata": {},
     "output_type": "display_data"
    }
   ],
   "source": [
    "from matplotlib import cm\n",
    "fig=plt.figure(figsize=(20,20))\n",
    "ax=fig.add_subplot(111,projection='3d')\n",
    "for s in experience_metrics_with_cluster.clusters.unique():\n",
    "    ax.scatter(experience_metrics_with_cluster.Total_TCP[experience_metrics_with_cluster.clusters==s],experience_metrics_with_cluster.Total_RTT[experience_metrics_with_cluster.clusters==s],experience_metrics_with_cluster.Total_Throughput[experience_metrics_with_cluster.clusters==s],label=s)\n",
    "    ax.set_xlabel('Total TCP')\n",
    "    ax.set_ylabel('Total RTT')\n",
    "    ax.set_zlabel('Total Throughput')\n",
    "    ax.legend()"
   ]
  },
  {
   "cell_type": "code",
   "execution_count": null,
   "id": "2421649c",
   "metadata": {},
   "outputs": [],
   "source": []
  }
 ],
 "metadata": {
  "kernelspec": {
   "display_name": "Python 3",
   "language": "python",
   "name": "python3"
  },
  "language_info": {
   "codemirror_mode": {
    "name": "ipython",
    "version": 3
   },
   "file_extension": ".py",
   "mimetype": "text/x-python",
   "name": "python",
   "nbconvert_exporter": "python",
   "pygments_lexer": "ipython3",
   "version": "3.8.3"
  }
 },
 "nbformat": 4,
 "nbformat_minor": 5
}
